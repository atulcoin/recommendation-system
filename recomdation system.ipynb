{
 "cells": [
  {
   "cell_type": "code",
   "execution_count": 1,
   "metadata": {},
   "outputs": [],
   "source": [
    "import numpy as np\n",
    "import pandas as pd\n",
    "import seaborn as sns\n",
    "import matplotlib.pyplot as plt"
   ]
  },
  {
   "cell_type": "code",
   "execution_count": 2,
   "metadata": {},
   "outputs": [],
   "source": [
    "movies = pd.read_csv('movies.csv')\n",
    "ratings = pd.read_csv('ratings.csv')"
   ]
  },
  {
   "cell_type": "code",
   "execution_count": 3,
   "metadata": {
    "scrolled": true
   },
   "outputs": [
    {
     "data": {
      "text/html": [
       "<div>\n",
       "<style scoped>\n",
       "    .dataframe tbody tr th:only-of-type {\n",
       "        vertical-align: middle;\n",
       "    }\n",
       "\n",
       "    .dataframe tbody tr th {\n",
       "        vertical-align: top;\n",
       "    }\n",
       "\n",
       "    .dataframe thead th {\n",
       "        text-align: right;\n",
       "    }\n",
       "</style>\n",
       "<table border=\"1\" class=\"dataframe\">\n",
       "  <thead>\n",
       "    <tr style=\"text-align: right;\">\n",
       "      <th></th>\n",
       "      <th>movieId</th>\n",
       "      <th>title</th>\n",
       "      <th>genres</th>\n",
       "    </tr>\n",
       "  </thead>\n",
       "  <tbody>\n",
       "    <tr>\n",
       "      <th>0</th>\n",
       "      <td>1</td>\n",
       "      <td>Toy Story (1995)</td>\n",
       "      <td>Adventure|Animation|Children|Comedy|Fantasy</td>\n",
       "    </tr>\n",
       "    <tr>\n",
       "      <th>1</th>\n",
       "      <td>2</td>\n",
       "      <td>Jumanji (1995)</td>\n",
       "      <td>Adventure|Children|Fantasy</td>\n",
       "    </tr>\n",
       "    <tr>\n",
       "      <th>2</th>\n",
       "      <td>3</td>\n",
       "      <td>Grumpier Old Men (1995)</td>\n",
       "      <td>Comedy|Romance</td>\n",
       "    </tr>\n",
       "    <tr>\n",
       "      <th>3</th>\n",
       "      <td>4</td>\n",
       "      <td>Waiting to Exhale (1995)</td>\n",
       "      <td>Comedy|Drama|Romance</td>\n",
       "    </tr>\n",
       "    <tr>\n",
       "      <th>4</th>\n",
       "      <td>5</td>\n",
       "      <td>Father of the Bride Part II (1995)</td>\n",
       "      <td>Comedy</td>\n",
       "    </tr>\n",
       "  </tbody>\n",
       "</table>\n",
       "</div>"
      ],
      "text/plain": [
       "   movieId                               title  \\\n",
       "0        1                    Toy Story (1995)   \n",
       "1        2                      Jumanji (1995)   \n",
       "2        3             Grumpier Old Men (1995)   \n",
       "3        4            Waiting to Exhale (1995)   \n",
       "4        5  Father of the Bride Part II (1995)   \n",
       "\n",
       "                                        genres  \n",
       "0  Adventure|Animation|Children|Comedy|Fantasy  \n",
       "1                   Adventure|Children|Fantasy  \n",
       "2                               Comedy|Romance  \n",
       "3                         Comedy|Drama|Romance  \n",
       "4                                       Comedy  "
      ]
     },
     "execution_count": 3,
     "metadata": {},
     "output_type": "execute_result"
    }
   ],
   "source": [
    "movies.head()"
   ]
  },
  {
   "cell_type": "code",
   "execution_count": 4,
   "metadata": {
    "scrolled": true
   },
   "outputs": [
    {
     "data": {
      "text/html": [
       "<div>\n",
       "<style scoped>\n",
       "    .dataframe tbody tr th:only-of-type {\n",
       "        vertical-align: middle;\n",
       "    }\n",
       "\n",
       "    .dataframe tbody tr th {\n",
       "        vertical-align: top;\n",
       "    }\n",
       "\n",
       "    .dataframe thead th {\n",
       "        text-align: right;\n",
       "    }\n",
       "</style>\n",
       "<table border=\"1\" class=\"dataframe\">\n",
       "  <thead>\n",
       "    <tr style=\"text-align: right;\">\n",
       "      <th></th>\n",
       "      <th>movieId</th>\n",
       "      <th>title</th>\n",
       "      <th>genres</th>\n",
       "    </tr>\n",
       "  </thead>\n",
       "  <tbody>\n",
       "    <tr>\n",
       "      <th>count</th>\n",
       "      <td>10329.000000</td>\n",
       "      <td>10329</td>\n",
       "      <td>10329</td>\n",
       "    </tr>\n",
       "    <tr>\n",
       "      <th>unique</th>\n",
       "      <td>NaN</td>\n",
       "      <td>10327</td>\n",
       "      <td>938</td>\n",
       "    </tr>\n",
       "    <tr>\n",
       "      <th>top</th>\n",
       "      <td>NaN</td>\n",
       "      <td>War of the Worlds (2005)</td>\n",
       "      <td>Drama</td>\n",
       "    </tr>\n",
       "    <tr>\n",
       "      <th>freq</th>\n",
       "      <td>NaN</td>\n",
       "      <td>2</td>\n",
       "      <td>1385</td>\n",
       "    </tr>\n",
       "    <tr>\n",
       "      <th>mean</th>\n",
       "      <td>31924.282893</td>\n",
       "      <td>NaN</td>\n",
       "      <td>NaN</td>\n",
       "    </tr>\n",
       "    <tr>\n",
       "      <th>std</th>\n",
       "      <td>37734.741149</td>\n",
       "      <td>NaN</td>\n",
       "      <td>NaN</td>\n",
       "    </tr>\n",
       "    <tr>\n",
       "      <th>min</th>\n",
       "      <td>1.000000</td>\n",
       "      <td>NaN</td>\n",
       "      <td>NaN</td>\n",
       "    </tr>\n",
       "    <tr>\n",
       "      <th>25%</th>\n",
       "      <td>3240.000000</td>\n",
       "      <td>NaN</td>\n",
       "      <td>NaN</td>\n",
       "    </tr>\n",
       "    <tr>\n",
       "      <th>50%</th>\n",
       "      <td>7088.000000</td>\n",
       "      <td>NaN</td>\n",
       "      <td>NaN</td>\n",
       "    </tr>\n",
       "    <tr>\n",
       "      <th>75%</th>\n",
       "      <td>59900.000000</td>\n",
       "      <td>NaN</td>\n",
       "      <td>NaN</td>\n",
       "    </tr>\n",
       "    <tr>\n",
       "      <th>max</th>\n",
       "      <td>149532.000000</td>\n",
       "      <td>NaN</td>\n",
       "      <td>NaN</td>\n",
       "    </tr>\n",
       "  </tbody>\n",
       "</table>\n",
       "</div>"
      ],
      "text/plain": [
       "              movieId                     title genres\n",
       "count    10329.000000                     10329  10329\n",
       "unique            NaN                     10327    938\n",
       "top               NaN  War of the Worlds (2005)  Drama\n",
       "freq              NaN                         2   1385\n",
       "mean     31924.282893                       NaN    NaN\n",
       "std      37734.741149                       NaN    NaN\n",
       "min          1.000000                       NaN    NaN\n",
       "25%       3240.000000                       NaN    NaN\n",
       "50%       7088.000000                       NaN    NaN\n",
       "75%      59900.000000                       NaN    NaN\n",
       "max     149532.000000                       NaN    NaN"
      ]
     },
     "execution_count": 4,
     "metadata": {},
     "output_type": "execute_result"
    }
   ],
   "source": [
    "movies.describe(include='all')"
   ]
  },
  {
   "cell_type": "code",
   "execution_count": 5,
   "metadata": {
    "scrolled": true
   },
   "outputs": [
    {
     "name": "stdout",
     "output_type": "stream",
     "text": [
      "<class 'pandas.core.frame.DataFrame'>\n",
      "RangeIndex: 10329 entries, 0 to 10328\n",
      "Data columns (total 3 columns):\n",
      " #   Column   Non-Null Count  Dtype \n",
      "---  ------   --------------  ----- \n",
      " 0   movieId  10329 non-null  int64 \n",
      " 1   title    10329 non-null  object\n",
      " 2   genres   10329 non-null  object\n",
      "dtypes: int64(1), object(2)\n",
      "memory usage: 242.2+ KB\n"
     ]
    }
   ],
   "source": [
    "movies.info()"
   ]
  },
  {
   "cell_type": "code",
   "execution_count": 6,
   "metadata": {},
   "outputs": [
    {
     "data": {
      "text/html": [
       "<div>\n",
       "<style scoped>\n",
       "    .dataframe tbody tr th:only-of-type {\n",
       "        vertical-align: middle;\n",
       "    }\n",
       "\n",
       "    .dataframe tbody tr th {\n",
       "        vertical-align: top;\n",
       "    }\n",
       "\n",
       "    .dataframe thead th {\n",
       "        text-align: right;\n",
       "    }\n",
       "</style>\n",
       "<table border=\"1\" class=\"dataframe\">\n",
       "  <thead>\n",
       "    <tr style=\"text-align: right;\">\n",
       "      <th></th>\n",
       "      <th>userId</th>\n",
       "      <th>movieId</th>\n",
       "      <th>rating</th>\n",
       "      <th>timestamp</th>\n",
       "    </tr>\n",
       "  </thead>\n",
       "  <tbody>\n",
       "    <tr>\n",
       "      <th>0</th>\n",
       "      <td>1</td>\n",
       "      <td>16</td>\n",
       "      <td>4.0</td>\n",
       "      <td>1217897793</td>\n",
       "    </tr>\n",
       "    <tr>\n",
       "      <th>1</th>\n",
       "      <td>1</td>\n",
       "      <td>24</td>\n",
       "      <td>1.5</td>\n",
       "      <td>1217895807</td>\n",
       "    </tr>\n",
       "    <tr>\n",
       "      <th>2</th>\n",
       "      <td>1</td>\n",
       "      <td>32</td>\n",
       "      <td>4.0</td>\n",
       "      <td>1217896246</td>\n",
       "    </tr>\n",
       "    <tr>\n",
       "      <th>3</th>\n",
       "      <td>1</td>\n",
       "      <td>47</td>\n",
       "      <td>4.0</td>\n",
       "      <td>1217896556</td>\n",
       "    </tr>\n",
       "    <tr>\n",
       "      <th>4</th>\n",
       "      <td>1</td>\n",
       "      <td>50</td>\n",
       "      <td>4.0</td>\n",
       "      <td>1217896523</td>\n",
       "    </tr>\n",
       "  </tbody>\n",
       "</table>\n",
       "</div>"
      ],
      "text/plain": [
       "   userId  movieId  rating   timestamp\n",
       "0       1       16     4.0  1217897793\n",
       "1       1       24     1.5  1217895807\n",
       "2       1       32     4.0  1217896246\n",
       "3       1       47     4.0  1217896556\n",
       "4       1       50     4.0  1217896523"
      ]
     },
     "execution_count": 6,
     "metadata": {},
     "output_type": "execute_result"
    }
   ],
   "source": [
    "ratings.head()"
   ]
  },
  {
   "cell_type": "code",
   "execution_count": 7,
   "metadata": {},
   "outputs": [
    {
     "data": {
      "text/html": [
       "<div>\n",
       "<style scoped>\n",
       "    .dataframe tbody tr th:only-of-type {\n",
       "        vertical-align: middle;\n",
       "    }\n",
       "\n",
       "    .dataframe tbody tr th {\n",
       "        vertical-align: top;\n",
       "    }\n",
       "\n",
       "    .dataframe thead th {\n",
       "        text-align: right;\n",
       "    }\n",
       "</style>\n",
       "<table border=\"1\" class=\"dataframe\">\n",
       "  <thead>\n",
       "    <tr style=\"text-align: right;\">\n",
       "      <th></th>\n",
       "      <th>userId</th>\n",
       "      <th>movieId</th>\n",
       "      <th>rating</th>\n",
       "      <th>timestamp</th>\n",
       "    </tr>\n",
       "  </thead>\n",
       "  <tbody>\n",
       "    <tr>\n",
       "      <th>count</th>\n",
       "      <td>105339.000000</td>\n",
       "      <td>105339.000000</td>\n",
       "      <td>105339.000000</td>\n",
       "      <td>1.053390e+05</td>\n",
       "    </tr>\n",
       "    <tr>\n",
       "      <th>mean</th>\n",
       "      <td>364.924539</td>\n",
       "      <td>13381.312477</td>\n",
       "      <td>3.516850</td>\n",
       "      <td>1.130424e+09</td>\n",
       "    </tr>\n",
       "    <tr>\n",
       "      <th>std</th>\n",
       "      <td>197.486905</td>\n",
       "      <td>26170.456869</td>\n",
       "      <td>1.044872</td>\n",
       "      <td>1.802660e+08</td>\n",
       "    </tr>\n",
       "    <tr>\n",
       "      <th>min</th>\n",
       "      <td>1.000000</td>\n",
       "      <td>1.000000</td>\n",
       "      <td>0.500000</td>\n",
       "      <td>8.285650e+08</td>\n",
       "    </tr>\n",
       "    <tr>\n",
       "      <th>25%</th>\n",
       "      <td>192.000000</td>\n",
       "      <td>1073.000000</td>\n",
       "      <td>3.000000</td>\n",
       "      <td>9.711008e+08</td>\n",
       "    </tr>\n",
       "    <tr>\n",
       "      <th>50%</th>\n",
       "      <td>383.000000</td>\n",
       "      <td>2497.000000</td>\n",
       "      <td>3.500000</td>\n",
       "      <td>1.115154e+09</td>\n",
       "    </tr>\n",
       "    <tr>\n",
       "      <th>75%</th>\n",
       "      <td>557.000000</td>\n",
       "      <td>5991.000000</td>\n",
       "      <td>4.000000</td>\n",
       "      <td>1.275496e+09</td>\n",
       "    </tr>\n",
       "    <tr>\n",
       "      <th>max</th>\n",
       "      <td>668.000000</td>\n",
       "      <td>149532.000000</td>\n",
       "      <td>5.000000</td>\n",
       "      <td>1.452405e+09</td>\n",
       "    </tr>\n",
       "  </tbody>\n",
       "</table>\n",
       "</div>"
      ],
      "text/plain": [
       "              userId        movieId         rating     timestamp\n",
       "count  105339.000000  105339.000000  105339.000000  1.053390e+05\n",
       "mean      364.924539   13381.312477       3.516850  1.130424e+09\n",
       "std       197.486905   26170.456869       1.044872  1.802660e+08\n",
       "min         1.000000       1.000000       0.500000  8.285650e+08\n",
       "25%       192.000000    1073.000000       3.000000  9.711008e+08\n",
       "50%       383.000000    2497.000000       3.500000  1.115154e+09\n",
       "75%       557.000000    5991.000000       4.000000  1.275496e+09\n",
       "max       668.000000  149532.000000       5.000000  1.452405e+09"
      ]
     },
     "execution_count": 7,
     "metadata": {},
     "output_type": "execute_result"
    }
   ],
   "source": [
    "ratings.describe(include='all')"
   ]
  },
  {
   "cell_type": "code",
   "execution_count": 8,
   "metadata": {
    "scrolled": true
   },
   "outputs": [
    {
     "name": "stdout",
     "output_type": "stream",
     "text": [
      "<class 'pandas.core.frame.DataFrame'>\n",
      "RangeIndex: 105339 entries, 0 to 105338\n",
      "Data columns (total 4 columns):\n",
      " #   Column     Non-Null Count   Dtype  \n",
      "---  ------     --------------   -----  \n",
      " 0   userId     105339 non-null  int64  \n",
      " 1   movieId    105339 non-null  int64  \n",
      " 2   rating     105339 non-null  float64\n",
      " 3   timestamp  105339 non-null  int64  \n",
      "dtypes: float64(1), int64(3)\n",
      "memory usage: 3.2 MB\n"
     ]
    }
   ],
   "source": [
    "ratings.info()"
   ]
  },
  {
   "cell_type": "code",
   "execution_count": 9,
   "metadata": {},
   "outputs": [
    {
     "data": {
      "text/plain": [
       "(10329, 3)"
      ]
     },
     "execution_count": 9,
     "metadata": {},
     "output_type": "execute_result"
    }
   ],
   "source": [
    "movies.shape"
   ]
  },
  {
   "cell_type": "code",
   "execution_count": null,
   "metadata": {},
   "outputs": [],
   "source": []
  },
  {
   "cell_type": "code",
   "execution_count": null,
   "metadata": {},
   "outputs": [],
   "source": []
  },
  {
   "cell_type": "code",
   "execution_count": 10,
   "metadata": {},
   "outputs": [],
   "source": [
    "movies['genres']= movies['genres'].str.replace('|',' ')"
   ]
  },
  {
   "cell_type": "code",
   "execution_count": 11,
   "metadata": {},
   "outputs": [
    {
     "data": {
      "text/plain": [
       "10329"
      ]
     },
     "execution_count": 11,
     "metadata": {},
     "output_type": "execute_result"
    }
   ],
   "source": [
    "len(movies.movieId.unique())"
   ]
  },
  {
   "cell_type": "code",
   "execution_count": 12,
   "metadata": {},
   "outputs": [
    {
     "data": {
      "text/plain": [
       "10325"
      ]
     },
     "execution_count": 12,
     "metadata": {},
     "output_type": "execute_result"
    }
   ],
   "source": [
    "len(ratings.movieId.unique())"
   ]
  },
  {
   "cell_type": "code",
   "execution_count": 13,
   "metadata": {},
   "outputs": [],
   "source": [
    "ratings_f = ratings.groupby('userId').filter(lambda x: len(x) >=100)\n",
    "movie_list_rating =ratings_f.movieId.unique().tolist()"
   ]
  },
  {
   "cell_type": "code",
   "execution_count": 14,
   "metadata": {},
   "outputs": [
    {
     "data": {
      "text/plain": [
       "98.84790395972504"
      ]
     },
     "execution_count": 14,
     "metadata": {},
     "output_type": "execute_result"
    }
   ],
   "source": [
    "len(ratings_f.movieId.unique())/len(movies.movieId.unique()) * 100"
   ]
  },
  {
   "cell_type": "code",
   "execution_count": 15,
   "metadata": {},
   "outputs": [
    {
     "data": {
      "text/plain": [
       "98.8861985472155"
      ]
     },
     "execution_count": 15,
     "metadata": {},
     "output_type": "execute_result"
    }
   ],
   "source": [
    "len(ratings_f.movieId.unique())/len(ratings.movieId.unique()) * 100"
   ]
  },
  {
   "cell_type": "code",
   "execution_count": 16,
   "metadata": {},
   "outputs": [],
   "source": [
    "movies = movies[movies.movieId.isin(movie_list_rating)]"
   ]
  },
  {
   "cell_type": "code",
   "execution_count": 17,
   "metadata": {},
   "outputs": [
    {
     "data": {
      "text/plain": [
       "(10210, 3)"
      ]
     },
     "execution_count": 17,
     "metadata": {},
     "output_type": "execute_result"
    }
   ],
   "source": [
    "movies.shape"
   ]
  },
  {
   "cell_type": "code",
   "execution_count": 18,
   "metadata": {},
   "outputs": [
    {
     "name": "stdout",
     "output_type": "stream",
     "text": [
      "(10210, 23)\n"
     ]
    }
   ],
   "source": [
    "from sklearn.feature_extraction.text import TfidfVectorizer \n",
    "\n",
    "# Vectorizing pre-processed movie plots using TF-IDF \n",
    "tfidfvec = TfidfVectorizer(stop_words='english') \n",
    "tfidf_movieid = tfidfvec.fit_transform((movies[\"genres\"]))\n",
    "tf_df=pd.DataFrame(tfidf_movieid.toarray(), index=movies.index.tolist())\n",
    "\n",
    "\n",
    "print(tf_df.shape)"
   ]
  },
  {
   "cell_type": "code",
   "execution_count": 19,
   "metadata": {},
   "outputs": [
    {
     "data": {
      "image/png": "[encoded data removed]",
      "text/plain": [
       "<Figure size 432x288 with 1 Axes>"
      ]
     },
     "metadata": {
      "needs_background": "light"
     },
     "output_type": "display_data"
    }
   ],
   "source": [
    "#from sklearn.decomposition import TruncatedSVD\n",
    "\n",
    "#svd = TruncatedSVD(n_components=22)\n",
    "from sklearn.decomposition import PCA\n",
    "pca = PCA(n_components=12)\n",
    "matrix = pca.fit_transform(tf_df)\n",
    "\n",
    "\n",
    "#matrix=svd.fit_transform(tf_df)\n",
    "explained = pca.explained_variance_ratio_.cumsum()\n",
    "plt.plot(explained, '.-', ms=16,color='red')\n",
    "plt.xlabel('singu', fontsize=12)\n",
    "plt.ylabel('var', fontsize=12)\n",
    "plt.show()"
   ]
  },
  {
   "cell_type": "code",
   "execution_count": 20,
   "metadata": {},
   "outputs": [
    {
     "data": {
      "text/plain": [
       "(10210, 12)"
      ]
     },
     "execution_count": 20,
     "metadata": {},
     "output_type": "execute_result"
    }
   ],
   "source": [
    "matrix.shape"
   ]
  },
  {
   "cell_type": "code",
   "execution_count": 21,
   "metadata": {},
   "outputs": [],
   "source": [
    "ratings_f1=pd.merge(movies[['movieId']], ratings_f, on=\"movieId\", how=\"right\")"
   ]
  },
  {
   "cell_type": "code",
   "execution_count": 22,
   "metadata": {},
   "outputs": [],
   "source": [
    "ratings_f2=ratings_f1.pivot(index='movieId', columns='userId', values = 'rating').fillna(0)"
   ]
  },
  {
   "cell_type": "code",
   "execution_count": 23,
   "metadata": {
    "scrolled": true
   },
   "outputs": [
    {
     "data": {
      "text/html": [
       "<div>\n",
       "<style scoped>\n",
       "    .dataframe tbody tr th:only-of-type {\n",
       "        vertical-align: middle;\n",
       "    }\n",
       "\n",
       "    .dataframe tbody tr th {\n",
       "        vertical-align: top;\n",
       "    }\n",
       "\n",
       "    .dataframe thead th {\n",
       "        text-align: right;\n",
       "    }\n",
       "</style>\n",
       "<table border=\"1\" class=\"dataframe\">\n",
       "  <thead>\n",
       "    <tr style=\"text-align: right;\">\n",
       "      <th>userId</th>\n",
       "      <th>1</th>\n",
       "      <th>4</th>\n",
       "      <th>7</th>\n",
       "      <th>9</th>\n",
       "      <th>17</th>\n",
       "      <th>19</th>\n",
       "      <th>21</th>\n",
       "      <th>22</th>\n",
       "      <th>24</th>\n",
       "      <th>25</th>\n",
       "      <th>...</th>\n",
       "      <th>637</th>\n",
       "      <th>642</th>\n",
       "      <th>650</th>\n",
       "      <th>655</th>\n",
       "      <th>656</th>\n",
       "      <th>659</th>\n",
       "      <th>662</th>\n",
       "      <th>665</th>\n",
       "      <th>666</th>\n",
       "      <th>668</th>\n",
       "    </tr>\n",
       "    <tr>\n",
       "      <th>movieId</th>\n",
       "      <th></th>\n",
       "      <th></th>\n",
       "      <th></th>\n",
       "      <th></th>\n",
       "      <th></th>\n",
       "      <th></th>\n",
       "      <th></th>\n",
       "      <th></th>\n",
       "      <th></th>\n",
       "      <th></th>\n",
       "      <th></th>\n",
       "      <th></th>\n",
       "      <th></th>\n",
       "      <th></th>\n",
       "      <th></th>\n",
       "      <th></th>\n",
       "      <th></th>\n",
       "      <th></th>\n",
       "      <th></th>\n",
       "      <th></th>\n",
       "      <th></th>\n",
       "    </tr>\n",
       "  </thead>\n",
       "  <tbody>\n",
       "    <tr>\n",
       "      <th>1</th>\n",
       "      <td>0.0</td>\n",
       "      <td>0.0</td>\n",
       "      <td>0.0</td>\n",
       "      <td>0.0</td>\n",
       "      <td>5.0</td>\n",
       "      <td>0.0</td>\n",
       "      <td>0.0</td>\n",
       "      <td>0.0</td>\n",
       "      <td>0.0</td>\n",
       "      <td>0.0</td>\n",
       "      <td>...</td>\n",
       "      <td>5.0</td>\n",
       "      <td>4.0</td>\n",
       "      <td>5.0</td>\n",
       "      <td>4.0</td>\n",
       "      <td>0.0</td>\n",
       "      <td>0.0</td>\n",
       "      <td>5.0</td>\n",
       "      <td>0.0</td>\n",
       "      <td>0.0</td>\n",
       "      <td>3.0</td>\n",
       "    </tr>\n",
       "    <tr>\n",
       "      <th>2</th>\n",
       "      <td>0.0</td>\n",
       "      <td>0.0</td>\n",
       "      <td>0.0</td>\n",
       "      <td>0.0</td>\n",
       "      <td>0.0</td>\n",
       "      <td>0.0</td>\n",
       "      <td>0.0</td>\n",
       "      <td>0.0</td>\n",
       "      <td>0.0</td>\n",
       "      <td>0.0</td>\n",
       "      <td>...</td>\n",
       "      <td>0.0</td>\n",
       "      <td>0.0</td>\n",
       "      <td>4.0</td>\n",
       "      <td>3.5</td>\n",
       "      <td>3.0</td>\n",
       "      <td>0.0</td>\n",
       "      <td>5.0</td>\n",
       "      <td>0.0</td>\n",
       "      <td>0.0</td>\n",
       "      <td>3.0</td>\n",
       "    </tr>\n",
       "    <tr>\n",
       "      <th>3</th>\n",
       "      <td>0.0</td>\n",
       "      <td>0.0</td>\n",
       "      <td>0.0</td>\n",
       "      <td>3.0</td>\n",
       "      <td>0.0</td>\n",
       "      <td>0.0</td>\n",
       "      <td>0.0</td>\n",
       "      <td>2.5</td>\n",
       "      <td>0.0</td>\n",
       "      <td>2.0</td>\n",
       "      <td>...</td>\n",
       "      <td>0.0</td>\n",
       "      <td>0.0</td>\n",
       "      <td>0.0</td>\n",
       "      <td>0.0</td>\n",
       "      <td>0.0</td>\n",
       "      <td>0.0</td>\n",
       "      <td>0.0</td>\n",
       "      <td>0.0</td>\n",
       "      <td>0.0</td>\n",
       "      <td>2.0</td>\n",
       "    </tr>\n",
       "  </tbody>\n",
       "</table>\n",
       "<p>3 rows × 258 columns</p>\n",
       "</div>"
      ],
      "text/plain": [
       "userId   1    4    7    9    17   19   21   22   24   25   ...  637  642  650  \\\n",
       "movieId                                                    ...                  \n",
       "1        0.0  0.0  0.0  0.0  5.0  0.0  0.0  0.0  0.0  0.0  ...  5.0  4.0  5.0   \n",
       "2        0.0  0.0  0.0  0.0  0.0  0.0  0.0  0.0  0.0  0.0  ...  0.0  0.0  4.0   \n",
       "3        0.0  0.0  0.0  3.0  0.0  0.0  0.0  2.5  0.0  2.0  ...  0.0  0.0  0.0   \n",
       "\n",
       "userId   655  656  659  662  665  666  668  \n",
       "movieId                                     \n",
       "1        4.0  0.0  0.0  5.0  0.0  0.0  3.0  \n",
       "2        3.5  3.0  0.0  5.0  0.0  0.0  3.0  \n",
       "3        0.0  0.0  0.0  0.0  0.0  0.0  2.0  \n",
       "\n",
       "[3 rows x 258 columns]"
      ]
     },
     "execution_count": 23,
     "metadata": {},
     "output_type": "execute_result"
    }
   ],
   "source": [
    "ratings_f2.head(3)"
   ]
  },
  {
   "cell_type": "code",
   "execution_count": 24,
   "metadata": {},
   "outputs": [],
   "source": [
    "eda=pd.merge(movies, ratings, how ='left', on ='movieId')"
   ]
  },
  {
   "cell_type": "code",
   "execution_count": 25,
   "metadata": {},
   "outputs": [
    {
     "data": {
      "text/html": [
       "<div>\n",
       "<style scoped>\n",
       "    .dataframe tbody tr th:only-of-type {\n",
       "        vertical-align: middle;\n",
       "    }\n",
       "\n",
       "    .dataframe tbody tr th {\n",
       "        vertical-align: top;\n",
       "    }\n",
       "\n",
       "    .dataframe thead th {\n",
       "        text-align: right;\n",
       "    }\n",
       "</style>\n",
       "<table border=\"1\" class=\"dataframe\">\n",
       "  <thead>\n",
       "    <tr style=\"text-align: right;\">\n",
       "      <th></th>\n",
       "      <th>movieId</th>\n",
       "      <th>title</th>\n",
       "      <th>genres</th>\n",
       "      <th>userId</th>\n",
       "      <th>rating</th>\n",
       "      <th>timestamp</th>\n",
       "    </tr>\n",
       "  </thead>\n",
       "  <tbody>\n",
       "    <tr>\n",
       "      <th>0</th>\n",
       "      <td>1</td>\n",
       "      <td>Toy Story (1995)</td>\n",
       "      <td>Adventure Animation Children Comedy Fantasy</td>\n",
       "      <td>2</td>\n",
       "      <td>5.0</td>\n",
       "      <td>859046895</td>\n",
       "    </tr>\n",
       "    <tr>\n",
       "      <th>1</th>\n",
       "      <td>1</td>\n",
       "      <td>Toy Story (1995)</td>\n",
       "      <td>Adventure Animation Children Comedy Fantasy</td>\n",
       "      <td>5</td>\n",
       "      <td>4.0</td>\n",
       "      <td>1303501039</td>\n",
       "    </tr>\n",
       "    <tr>\n",
       "      <th>2</th>\n",
       "      <td>1</td>\n",
       "      <td>Toy Story (1995)</td>\n",
       "      <td>Adventure Animation Children Comedy Fantasy</td>\n",
       "      <td>8</td>\n",
       "      <td>5.0</td>\n",
       "      <td>858610933</td>\n",
       "    </tr>\n",
       "    <tr>\n",
       "      <th>3</th>\n",
       "      <td>1</td>\n",
       "      <td>Toy Story (1995)</td>\n",
       "      <td>Adventure Animation Children Comedy Fantasy</td>\n",
       "      <td>11</td>\n",
       "      <td>4.0</td>\n",
       "      <td>850815810</td>\n",
       "    </tr>\n",
       "    <tr>\n",
       "      <th>4</th>\n",
       "      <td>1</td>\n",
       "      <td>Toy Story (1995)</td>\n",
       "      <td>Adventure Animation Children Comedy Fantasy</td>\n",
       "      <td>14</td>\n",
       "      <td>4.0</td>\n",
       "      <td>851766286</td>\n",
       "    </tr>\n",
       "    <tr>\n",
       "      <th>...</th>\n",
       "      <td>...</td>\n",
       "      <td>...</td>\n",
       "      <td>...</td>\n",
       "      <td>...</td>\n",
       "      <td>...</td>\n",
       "      <td>...</td>\n",
       "    </tr>\n",
       "    <tr>\n",
       "      <th>105215</th>\n",
       "      <td>148238</td>\n",
       "      <td>A Very Murray Christmas (2015)</td>\n",
       "      <td>Comedy</td>\n",
       "      <td>475</td>\n",
       "      <td>3.0</td>\n",
       "      <td>1451213043</td>\n",
       "    </tr>\n",
       "    <tr>\n",
       "      <th>105216</th>\n",
       "      <td>148626</td>\n",
       "      <td>The Big Short (2015)</td>\n",
       "      <td>Drama</td>\n",
       "      <td>458</td>\n",
       "      <td>4.0</td>\n",
       "      <td>1452014749</td>\n",
       "    </tr>\n",
       "    <tr>\n",
       "      <th>105217</th>\n",
       "      <td>148626</td>\n",
       "      <td>The Big Short (2015)</td>\n",
       "      <td>Drama</td>\n",
       "      <td>576</td>\n",
       "      <td>4.5</td>\n",
       "      <td>1451687664</td>\n",
       "    </tr>\n",
       "    <tr>\n",
       "      <th>105218</th>\n",
       "      <td>148626</td>\n",
       "      <td>The Big Short (2015)</td>\n",
       "      <td>Drama</td>\n",
       "      <td>668</td>\n",
       "      <td>4.5</td>\n",
       "      <td>1451148148</td>\n",
       "    </tr>\n",
       "    <tr>\n",
       "      <th>105219</th>\n",
       "      <td>149532</td>\n",
       "      <td>Marco Polo: One Hundred Eyes (2015)</td>\n",
       "      <td>(no genres listed)</td>\n",
       "      <td>475</td>\n",
       "      <td>4.0</td>\n",
       "      <td>1451223429</td>\n",
       "    </tr>\n",
       "  </tbody>\n",
       "</table>\n",
       "<p>105220 rows × 6 columns</p>\n",
       "</div>"
      ],
      "text/plain": [
       "        movieId                                title  \\\n",
       "0             1                     Toy Story (1995)   \n",
       "1             1                     Toy Story (1995)   \n",
       "2             1                     Toy Story (1995)   \n",
       "3             1                     Toy Story (1995)   \n",
       "4             1                     Toy Story (1995)   \n",
       "...         ...                                  ...   \n",
       "105215   148238       A Very Murray Christmas (2015)   \n",
       "105216   148626                 The Big Short (2015)   \n",
       "105217   148626                 The Big Short (2015)   \n",
       "105218   148626                 The Big Short (2015)   \n",
       "105219   149532  Marco Polo: One Hundred Eyes (2015)   \n",
       "\n",
       "                                             genres  userId  rating  \\\n",
       "0       Adventure Animation Children Comedy Fantasy       2     5.0   \n",
       "1       Adventure Animation Children Comedy Fantasy       5     4.0   \n",
       "2       Adventure Animation Children Comedy Fantasy       8     5.0   \n",
       "3       Adventure Animation Children Comedy Fantasy      11     4.0   \n",
       "4       Adventure Animation Children Comedy Fantasy      14     4.0   \n",
       "...                                             ...     ...     ...   \n",
       "105215                                       Comedy     475     3.0   \n",
       "105216                                        Drama     458     4.0   \n",
       "105217                                        Drama     576     4.5   \n",
       "105218                                        Drama     668     4.5   \n",
       "105219                           (no genres listed)     475     4.0   \n",
       "\n",
       "         timestamp  \n",
       "0        859046895  \n",
       "1       1303501039  \n",
       "2        858610933  \n",
       "3        850815810  \n",
       "4        851766286  \n",
       "...            ...  \n",
       "105215  1451213043  \n",
       "105216  1452014749  \n",
       "105217  1451687664  \n",
       "105218  1451148148  \n",
       "105219  1451223429  \n",
       "\n",
       "[105220 rows x 6 columns]"
      ]
     },
     "execution_count": 25,
     "metadata": {},
     "output_type": "execute_result"
    }
   ],
   "source": [
    "eda"
   ]
  },
  {
   "cell_type": "code",
   "execution_count": 26,
   "metadata": {},
   "outputs": [
    {
     "data": {
      "text/plain": [
       "title\n",
       "'71 (2014)                                       3.500000\n",
       "'Round Midnight (1986)                           2.500000\n",
       "'Til There Was You (1997)                        4.000000\n",
       "'burbs, The (1989)                               3.125000\n",
       "'night Mother (1986)                             3.000000\n",
       "                                                   ...   \n",
       "loudQUIETloud: A Film About the Pixies (2006)    4.500000\n",
       "xXx (2002)                                       2.958333\n",
       "xXx: State of the Union (2005)                   2.071429\n",
       "¡Three Amigos! (1986)                            3.012500\n",
       "À nous la liberté (Freedom for Us) (1931)        3.000000\n",
       "Name: rating, Length: 10208, dtype: float64"
      ]
     },
     "execution_count": 26,
     "metadata": {},
     "output_type": "execute_result"
    }
   ],
   "source": [
    "a=eda.groupby('title')['rating'].mean()\n",
    "a"
   ]
  },
  {
   "cell_type": "code",
   "execution_count": 27,
   "metadata": {},
   "outputs": [],
   "source": [
    "short_rating=a.sort_values(ascending=False)"
   ]
  },
  {
   "cell_type": "code",
   "execution_count": 28,
   "metadata": {},
   "outputs": [
    {
     "data": {
      "text/plain": [
       "title\n",
       "Andrei Rublev (Andrey Rublyov) (1969)              5.0\n",
       "Topkapi (1964)                                     5.0\n",
       "Hard Core Logo (1996)                              5.0\n",
       "Superman/Batman: Public Enemies (2009)             5.0\n",
       "Plague Dogs, The (1982)                            5.0\n",
       "                                                  ... \n",
       "Deliver Us from Evil (2014)                        0.5\n",
       "You Got Served (2004)                              0.5\n",
       "Leatherface: Texas Chainsaw Massacre III (1990)    0.5\n",
       "Clockstoppers (2002)                               0.5\n",
       "Goodbye to Language 3D (2014)                      0.5\n",
       "Name: rating, Length: 10208, dtype: float64"
      ]
     },
     "execution_count": 28,
     "metadata": {},
     "output_type": "execute_result"
    }
   ],
   "source": [
    "short_rating"
   ]
  },
  {
   "cell_type": "code",
   "execution_count": 29,
   "metadata": {},
   "outputs": [
    {
     "data": {
      "text/plain": [
       "title\n",
       "loudQUIETloud: A Film About the Pixies (2006)     1\n",
       "xXx (2002)                                       24\n",
       "xXx: State of the Union (2005)                    7\n",
       "¡Three Amigos! (1986)                            40\n",
       "À nous la liberté (Freedom for Us) (1931)         1\n",
       "Name: rating, dtype: int64"
      ]
     },
     "execution_count": 29,
     "metadata": {},
     "output_type": "execute_result"
    }
   ],
   "source": [
    "b=eda.groupby('title')['rating'].count()\n",
    "b.tail()"
   ]
  },
  {
   "cell_type": "code",
   "execution_count": 30,
   "metadata": {},
   "outputs": [],
   "source": [
    "new_record=pd.DataFrame()\n",
    "new_record['Average_rating']=a"
   ]
  },
  {
   "cell_type": "code",
   "execution_count": 31,
   "metadata": {},
   "outputs": [],
   "source": [
    "new_record['total_rating']=b"
   ]
  },
  {
   "cell_type": "code",
   "execution_count": 32,
   "metadata": {},
   "outputs": [
    {
     "data": {
      "text/html": [
       "<div>\n",
       "<style scoped>\n",
       "    .dataframe tbody tr th:only-of-type {\n",
       "        vertical-align: middle;\n",
       "    }\n",
       "\n",
       "    .dataframe tbody tr th {\n",
       "        vertical-align: top;\n",
       "    }\n",
       "\n",
       "    .dataframe thead th {\n",
       "        text-align: right;\n",
       "    }\n",
       "</style>\n",
       "<table border=\"1\" class=\"dataframe\">\n",
       "  <thead>\n",
       "    <tr style=\"text-align: right;\">\n",
       "      <th></th>\n",
       "      <th>Average_rating</th>\n",
       "      <th>total_rating</th>\n",
       "    </tr>\n",
       "    <tr>\n",
       "      <th>title</th>\n",
       "      <th></th>\n",
       "      <th></th>\n",
       "    </tr>\n",
       "  </thead>\n",
       "  <tbody>\n",
       "    <tr>\n",
       "      <th>'71 (2014)</th>\n",
       "      <td>3.500</td>\n",
       "      <td>1</td>\n",
       "    </tr>\n",
       "    <tr>\n",
       "      <th>'Round Midnight (1986)</th>\n",
       "      <td>2.500</td>\n",
       "      <td>1</td>\n",
       "    </tr>\n",
       "    <tr>\n",
       "      <th>'Til There Was You (1997)</th>\n",
       "      <td>4.000</td>\n",
       "      <td>3</td>\n",
       "    </tr>\n",
       "    <tr>\n",
       "      <th>'burbs, The (1989)</th>\n",
       "      <td>3.125</td>\n",
       "      <td>20</td>\n",
       "    </tr>\n",
       "    <tr>\n",
       "      <th>'night Mother (1986)</th>\n",
       "      <td>3.000</td>\n",
       "      <td>1</td>\n",
       "    </tr>\n",
       "  </tbody>\n",
       "</table>\n",
       "</div>"
      ],
      "text/plain": [
       "                           Average_rating  total_rating\n",
       "title                                                  \n",
       "'71 (2014)                          3.500             1\n",
       "'Round Midnight (1986)              2.500             1\n",
       "'Til There Was You (1997)           4.000             3\n",
       "'burbs, The (1989)                  3.125            20\n",
       "'night Mother (1986)                3.000             1"
      ]
     },
     "execution_count": 32,
     "metadata": {},
     "output_type": "execute_result"
    }
   ],
   "source": [
    "new_record.head()"
   ]
  },
  {
   "cell_type": "code",
   "execution_count": 33,
   "metadata": {},
   "outputs": [
    {
     "data": {
      "text/plain": [
       "<AxesSubplot:>"
      ]
     },
     "execution_count": 33,
     "metadata": {},
     "output_type": "execute_result"
    },
    {
     "data": {
      "image/png": "[encoded data removed]",
      "text/plain": [
       "<Figure size 432x288 with 1 Axes>"
      ]
     },
     "metadata": {
      "needs_background": "light"
     },
     "output_type": "display_data"
    }
   ],
   "source": [
    "import matplotlib.pyplot as plt\n",
    "import seaborn as sns\n",
    "sns.set_style('white')\n",
    "%matplotlib inline\n",
    "\n",
    "\n",
    "new_record['total_rating'].hist(bins=100)"
   ]
  },
  {
   "cell_type": "code",
   "execution_count": 34,
   "metadata": {},
   "outputs": [
    {
     "data": {
      "text/plain": [
       "<AxesSubplot:>"
      ]
     },
     "execution_count": 34,
     "metadata": {},
     "output_type": "execute_result"
    },
    {
     "data": {
      "image/png": "[encoded data removed]",
      "text/plain": [
       "<Figure size 432x288 with 1 Axes>"
      ]
     },
     "metadata": {
      "needs_background": "light"
     },
     "output_type": "display_data"
    }
   ],
   "source": [
    "new_record['Average_rating'].hist(bins=50)"
   ]
  },
  {
   "cell_type": "code",
   "execution_count": 35,
   "metadata": {},
   "outputs": [],
   "source": [
    "q = new_record['Average_rating'].quantile(0.10)\n",
    "data2 = new_record[new_record['Average_rating']>q]"
   ]
  },
  {
   "cell_type": "code",
   "execution_count": 36,
   "metadata": {},
   "outputs": [
    {
     "data": {
      "text/plain": [
       "<AxesSubplot:>"
      ]
     },
     "execution_count": 36,
     "metadata": {},
     "output_type": "execute_result"
    },
    {
     "data": {
      "image/png": "[encoded data removed]",
      "text/plain": [
       "<Figure size 432x288 with 1 Axes>"
      ]
     },
     "metadata": {
      "needs_background": "light"
     },
     "output_type": "display_data"
    }
   ],
   "source": [
    "data2['Average_rating'].hist(bins=50)"
   ]
  },
  {
   "cell_type": "code",
   "execution_count": null,
   "metadata": {},
   "outputs": [],
   "source": []
  },
  {
   "cell_type": "code",
   "execution_count": 37,
   "metadata": {},
   "outputs": [
    {
     "data": {
      "image/png": "[encoded data removed]",
      "text/plain": [
       "<Figure size 432x288 with 1 Axes>"
      ]
     },
     "metadata": {
      "needs_background": "light"
     },
     "output_type": "display_data"
    }
   ],
   "source": [
    "#from sklearn.decomposition import TruncatedSVD\n",
    "\n",
    "#svd = TruncatedSVD(n_components=50)\n",
    "#matrix2=svd.fit_transform(ratings_f2)\n",
    "from sklearn.decomposition import PCA\n",
    "pca = PCA(n_components=30)\n",
    "matrix2 = pca.fit_transform(ratings_f2)\n",
    "\n",
    "\n",
    "\n",
    "\n",
    "matrix2_df=pd.DataFrame(matrix2,index=movies.title.tolist())\n",
    "explained = pca.explained_variance_ratio_.cumsum()\n",
    "plt.plot(explained, '.-', ms=16,color='red')\n",
    "plt.xlabel('singu', fontsize=12)\n",
    "plt.ylabel('var', fontsize=12)\n",
    "plt.show()"
   ]
  },
  {
   "cell_type": "code",
   "execution_count": 38,
   "metadata": {},
   "outputs": [],
   "source": [
    "matrix1_df=pd.DataFrame(matrix[:,0:12], index=movies.title.tolist())"
   ]
  },
  {
   "cell_type": "code",
   "execution_count": 39,
   "metadata": {},
   "outputs": [
    {
     "data": {
      "text/html": [
       "<div>\n",
       "<style scoped>\n",
       "    .dataframe tbody tr th:only-of-type {\n",
       "        vertical-align: middle;\n",
       "    }\n",
       "\n",
       "    .dataframe tbody tr th {\n",
       "        vertical-align: top;\n",
       "    }\n",
       "\n",
       "    .dataframe thead th {\n",
       "        text-align: right;\n",
       "    }\n",
       "</style>\n",
       "<table border=\"1\" class=\"dataframe\">\n",
       "  <thead>\n",
       "    <tr style=\"text-align: right;\">\n",
       "      <th></th>\n",
       "      <th>0</th>\n",
       "      <th>1</th>\n",
       "      <th>2</th>\n",
       "      <th>3</th>\n",
       "      <th>4</th>\n",
       "      <th>5</th>\n",
       "      <th>6</th>\n",
       "      <th>7</th>\n",
       "      <th>8</th>\n",
       "      <th>9</th>\n",
       "      <th>10</th>\n",
       "      <th>11</th>\n",
       "    </tr>\n",
       "  </thead>\n",
       "  <tbody>\n",
       "    <tr>\n",
       "      <th>Toy Story (1995)</th>\n",
       "      <td>-0.318186</td>\n",
       "      <td>0.098480</td>\n",
       "      <td>0.067279</td>\n",
       "      <td>-0.383544</td>\n",
       "      <td>-0.146270</td>\n",
       "      <td>0.198189</td>\n",
       "      <td>-0.159656</td>\n",
       "      <td>-0.302428</td>\n",
       "      <td>-0.552079</td>\n",
       "      <td>-0.027216</td>\n",
       "      <td>-0.105693</td>\n",
       "      <td>0.080217</td>\n",
       "    </tr>\n",
       "    <tr>\n",
       "      <th>Jumanji (1995)</th>\n",
       "      <td>-0.159112</td>\n",
       "      <td>0.255829</td>\n",
       "      <td>0.173533</td>\n",
       "      <td>-0.411027</td>\n",
       "      <td>-0.169820</td>\n",
       "      <td>0.232669</td>\n",
       "      <td>-0.188681</td>\n",
       "      <td>-0.338779</td>\n",
       "      <td>-0.562778</td>\n",
       "      <td>-0.045018</td>\n",
       "      <td>-0.091289</td>\n",
       "      <td>-0.009593</td>\n",
       "    </tr>\n",
       "    <tr>\n",
       "      <th>Grumpier Old Men (1995)</th>\n",
       "      <td>-0.488203</td>\n",
       "      <td>-0.423775</td>\n",
       "      <td>0.486466</td>\n",
       "      <td>0.289671</td>\n",
       "      <td>-0.006918</td>\n",
       "      <td>-0.070289</td>\n",
       "      <td>0.009222</td>\n",
       "      <td>0.024743</td>\n",
       "      <td>0.029817</td>\n",
       "      <td>-0.012169</td>\n",
       "      <td>-0.004661</td>\n",
       "      <td>-0.034473</td>\n",
       "    </tr>\n",
       "    <tr>\n",
       "      <th>Waiting to Exhale (1995)</th>\n",
       "      <td>-0.104834</td>\n",
       "      <td>-0.562121</td>\n",
       "      <td>0.358681</td>\n",
       "      <td>0.234328</td>\n",
       "      <td>0.002293</td>\n",
       "      <td>-0.126725</td>\n",
       "      <td>0.014665</td>\n",
       "      <td>0.013268</td>\n",
       "      <td>0.030210</td>\n",
       "      <td>-0.046678</td>\n",
       "      <td>-0.000869</td>\n",
       "      <td>-0.041945</td>\n",
       "    </tr>\n",
       "    <tr>\n",
       "      <th>Father of the Bride Part II (1995)</th>\n",
       "      <td>-0.684061</td>\n",
       "      <td>-0.428027</td>\n",
       "      <td>-0.319266</td>\n",
       "      <td>-0.019888</td>\n",
       "      <td>0.059513</td>\n",
       "      <td>-0.049267</td>\n",
       "      <td>-0.021258</td>\n",
       "      <td>0.051269</td>\n",
       "      <td>0.009540</td>\n",
       "      <td>0.021730</td>\n",
       "      <td>0.006625</td>\n",
       "      <td>-0.021195</td>\n",
       "    </tr>\n",
       "  </tbody>\n",
       "</table>\n",
       "</div>"
      ],
      "text/plain": [
       "                                           0         1         2         3  \\\n",
       "Toy Story (1995)                   -0.318186  0.098480  0.067279 -0.383544   \n",
       "Jumanji (1995)                     -0.159112  0.255829  0.173533 -0.411027   \n",
       "Grumpier Old Men (1995)            -0.488203 -0.423775  0.486466  0.289671   \n",
       "Waiting to Exhale (1995)           -0.104834 -0.562121  0.358681  0.234328   \n",
       "Father of the Bride Part II (1995) -0.684061 -0.428027 -0.319266 -0.019888   \n",
       "\n",
       "                                           4         5         6         7  \\\n",
       "Toy Story (1995)                   -0.146270  0.198189 -0.159656 -0.302428   \n",
       "Jumanji (1995)                     -0.169820  0.232669 -0.188681 -0.338779   \n",
       "Grumpier Old Men (1995)            -0.006918 -0.070289  0.009222  0.024743   \n",
       "Waiting to Exhale (1995)            0.002293 -0.126725  0.014665  0.013268   \n",
       "Father of the Bride Part II (1995)  0.059513 -0.049267 -0.021258  0.051269   \n",
       "\n",
       "                                           8         9        10        11  \n",
       "Toy Story (1995)                   -0.552079 -0.027216 -0.105693  0.080217  \n",
       "Jumanji (1995)                     -0.562778 -0.045018 -0.091289 -0.009593  \n",
       "Grumpier Old Men (1995)             0.029817 -0.012169 -0.004661 -0.034473  \n",
       "Waiting to Exhale (1995)            0.030210 -0.046678 -0.000869 -0.041945  \n",
       "Father of the Bride Part II (1995)  0.009540  0.021730  0.006625 -0.021195  "
      ]
     },
     "execution_count": 39,
     "metadata": {},
     "output_type": "execute_result"
    }
   ],
   "source": [
    "matrix1_df.head()"
   ]
  },
  {
   "cell_type": "code",
   "execution_count": 40,
   "metadata": {},
   "outputs": [
    {
     "data": {
      "text/html": [
       "<div>\n",
       "<style scoped>\n",
       "    .dataframe tbody tr th:only-of-type {\n",
       "        vertical-align: middle;\n",
       "    }\n",
       "\n",
       "    .dataframe tbody tr th {\n",
       "        vertical-align: top;\n",
       "    }\n",
       "\n",
       "    .dataframe thead th {\n",
       "        text-align: right;\n",
       "    }\n",
       "</style>\n",
       "<table border=\"1\" class=\"dataframe\">\n",
       "  <thead>\n",
       "    <tr style=\"text-align: right;\">\n",
       "      <th></th>\n",
       "      <th>0</th>\n",
       "      <th>1</th>\n",
       "      <th>2</th>\n",
       "      <th>3</th>\n",
       "      <th>4</th>\n",
       "      <th>5</th>\n",
       "      <th>6</th>\n",
       "      <th>7</th>\n",
       "      <th>8</th>\n",
       "      <th>9</th>\n",
       "      <th>...</th>\n",
       "      <th>20</th>\n",
       "      <th>21</th>\n",
       "      <th>22</th>\n",
       "      <th>23</th>\n",
       "      <th>24</th>\n",
       "      <th>25</th>\n",
       "      <th>26</th>\n",
       "      <th>27</th>\n",
       "      <th>28</th>\n",
       "      <th>29</th>\n",
       "    </tr>\n",
       "  </thead>\n",
       "  <tbody>\n",
       "    <tr>\n",
       "      <th>Toy Story (1995)</th>\n",
       "      <td>34.994118</td>\n",
       "      <td>-2.612652</td>\n",
       "      <td>-5.061574</td>\n",
       "      <td>6.912783</td>\n",
       "      <td>6.324005</td>\n",
       "      <td>4.599181</td>\n",
       "      <td>-2.643772</td>\n",
       "      <td>0.227790</td>\n",
       "      <td>2.965422</td>\n",
       "      <td>1.742472</td>\n",
       "      <td>...</td>\n",
       "      <td>-1.241894</td>\n",
       "      <td>1.540255</td>\n",
       "      <td>0.388682</td>\n",
       "      <td>3.252543</td>\n",
       "      <td>0.398202</td>\n",
       "      <td>-5.314720</td>\n",
       "      <td>-1.547848</td>\n",
       "      <td>0.348529</td>\n",
       "      <td>-0.418152</td>\n",
       "      <td>0.202035</td>\n",
       "    </tr>\n",
       "    <tr>\n",
       "      <th>Jumanji (1995)</th>\n",
       "      <td>14.624334</td>\n",
       "      <td>1.605370</td>\n",
       "      <td>-3.911203</td>\n",
       "      <td>3.204608</td>\n",
       "      <td>3.983462</td>\n",
       "      <td>-2.449699</td>\n",
       "      <td>2.014152</td>\n",
       "      <td>-1.518813</td>\n",
       "      <td>-1.302292</td>\n",
       "      <td>0.460486</td>\n",
       "      <td>...</td>\n",
       "      <td>1.863623</td>\n",
       "      <td>-0.999673</td>\n",
       "      <td>0.968567</td>\n",
       "      <td>0.321986</td>\n",
       "      <td>-2.089994</td>\n",
       "      <td>-1.118259</td>\n",
       "      <td>-1.109360</td>\n",
       "      <td>-1.087848</td>\n",
       "      <td>0.992720</td>\n",
       "      <td>2.615842</td>\n",
       "    </tr>\n",
       "    <tr>\n",
       "      <th>Grumpier Old Men (1995)</th>\n",
       "      <td>3.849447</td>\n",
       "      <td>-1.628284</td>\n",
       "      <td>-3.050384</td>\n",
       "      <td>-2.581694</td>\n",
       "      <td>2.234409</td>\n",
       "      <td>-1.648948</td>\n",
       "      <td>0.460750</td>\n",
       "      <td>-2.113864</td>\n",
       "      <td>-0.207889</td>\n",
       "      <td>2.495963</td>\n",
       "      <td>...</td>\n",
       "      <td>3.425076</td>\n",
       "      <td>0.553388</td>\n",
       "      <td>0.560658</td>\n",
       "      <td>0.022861</td>\n",
       "      <td>0.201275</td>\n",
       "      <td>0.180957</td>\n",
       "      <td>-0.030948</td>\n",
       "      <td>-1.582371</td>\n",
       "      <td>-0.340177</td>\n",
       "      <td>1.378459</td>\n",
       "    </tr>\n",
       "    <tr>\n",
       "      <th>Waiting to Exhale (1995)</th>\n",
       "      <td>-0.536534</td>\n",
       "      <td>-2.188903</td>\n",
       "      <td>-1.466863</td>\n",
       "      <td>-0.399386</td>\n",
       "      <td>-0.024136</td>\n",
       "      <td>-2.312326</td>\n",
       "      <td>-1.590453</td>\n",
       "      <td>0.212795</td>\n",
       "      <td>0.938255</td>\n",
       "      <td>1.474529</td>\n",
       "      <td>...</td>\n",
       "      <td>-0.076633</td>\n",
       "      <td>0.250770</td>\n",
       "      <td>0.617013</td>\n",
       "      <td>-0.501875</td>\n",
       "      <td>-1.798849</td>\n",
       "      <td>0.518416</td>\n",
       "      <td>0.218813</td>\n",
       "      <td>1.135615</td>\n",
       "      <td>-0.353695</td>\n",
       "      <td>0.401626</td>\n",
       "    </tr>\n",
       "    <tr>\n",
       "      <th>Father of the Bride Part II (1995)</th>\n",
       "      <td>4.083467</td>\n",
       "      <td>-1.804963</td>\n",
       "      <td>-1.688509</td>\n",
       "      <td>-1.976798</td>\n",
       "      <td>4.578106</td>\n",
       "      <td>-0.668492</td>\n",
       "      <td>-0.974743</td>\n",
       "      <td>0.414582</td>\n",
       "      <td>-0.402918</td>\n",
       "      <td>-0.337652</td>\n",
       "      <td>...</td>\n",
       "      <td>3.459721</td>\n",
       "      <td>-0.438677</td>\n",
       "      <td>-0.626155</td>\n",
       "      <td>-1.199610</td>\n",
       "      <td>-0.168543</td>\n",
       "      <td>-0.852766</td>\n",
       "      <td>-1.082809</td>\n",
       "      <td>-1.783439</td>\n",
       "      <td>1.293365</td>\n",
       "      <td>-2.430429</td>\n",
       "    </tr>\n",
       "  </tbody>\n",
       "</table>\n",
       "<p>5 rows × 30 columns</p>\n",
       "</div>"
      ],
      "text/plain": [
       "                                           0         1         2         3   \\\n",
       "Toy Story (1995)                    34.994118 -2.612652 -5.061574  6.912783   \n",
       "Jumanji (1995)                      14.624334  1.605370 -3.911203  3.204608   \n",
       "Grumpier Old Men (1995)              3.849447 -1.628284 -3.050384 -2.581694   \n",
       "Waiting to Exhale (1995)            -0.536534 -2.188903 -1.466863 -0.399386   \n",
       "Father of the Bride Part II (1995)   4.083467 -1.804963 -1.688509 -1.976798   \n",
       "\n",
       "                                          4         5         6         7   \\\n",
       "Toy Story (1995)                    6.324005  4.599181 -2.643772  0.227790   \n",
       "Jumanji (1995)                      3.983462 -2.449699  2.014152 -1.518813   \n",
       "Grumpier Old Men (1995)             2.234409 -1.648948  0.460750 -2.113864   \n",
       "Waiting to Exhale (1995)           -0.024136 -2.312326 -1.590453  0.212795   \n",
       "Father of the Bride Part II (1995)  4.578106 -0.668492 -0.974743  0.414582   \n",
       "\n",
       "                                          8         9   ...        20  \\\n",
       "Toy Story (1995)                    2.965422  1.742472  ... -1.241894   \n",
       "Jumanji (1995)                     -1.302292  0.460486  ...  1.863623   \n",
       "Grumpier Old Men (1995)            -0.207889  2.495963  ...  3.425076   \n",
       "Waiting to Exhale (1995)            0.938255  1.474529  ... -0.076633   \n",
       "Father of the Bride Part II (1995) -0.402918 -0.337652  ...  3.459721   \n",
       "\n",
       "                                          21        22        23        24  \\\n",
       "Toy Story (1995)                    1.540255  0.388682  3.252543  0.398202   \n",
       "Jumanji (1995)                     -0.999673  0.968567  0.321986 -2.089994   \n",
       "Grumpier Old Men (1995)             0.553388  0.560658  0.022861  0.201275   \n",
       "Waiting to Exhale (1995)            0.250770  0.617013 -0.501875 -1.798849   \n",
       "Father of the Bride Part II (1995) -0.438677 -0.626155 -1.199610 -0.168543   \n",
       "\n",
       "                                          25        26        27        28  \\\n",
       "Toy Story (1995)                   -5.314720 -1.547848  0.348529 -0.418152   \n",
       "Jumanji (1995)                     -1.118259 -1.109360 -1.087848  0.992720   \n",
       "Grumpier Old Men (1995)             0.180957 -0.030948 -1.582371 -0.340177   \n",
       "Waiting to Exhale (1995)            0.518416  0.218813  1.135615 -0.353695   \n",
       "Father of the Bride Part II (1995) -0.852766 -1.082809 -1.783439  1.293365   \n",
       "\n",
       "                                          29  \n",
       "Toy Story (1995)                    0.202035  \n",
       "Jumanji (1995)                      2.615842  \n",
       "Grumpier Old Men (1995)             1.378459  \n",
       "Waiting to Exhale (1995)            0.401626  \n",
       "Father of the Bride Part II (1995) -2.430429  \n",
       "\n",
       "[5 rows x 30 columns]"
      ]
     },
     "execution_count": 40,
     "metadata": {},
     "output_type": "execute_result"
    }
   ],
   "source": [
    "matrix2_df.head()"
   ]
  },
  {
   "cell_type": "code",
   "execution_count": 41,
   "metadata": {},
   "outputs": [],
   "source": [
    "from sklearn.metrics.pairwise import cosine_similarity"
   ]
  },
  {
   "cell_type": "code",
   "execution_count": 42,
   "metadata": {},
   "outputs": [],
   "source": [
    "a_1 = np.array(matrix1_df.loc['Toy Story (1995)']).reshape(1,-1)\n",
    "a_2 = np.array(matrix2_df.loc['Toy Story (1995)']).reshape(1,-1)"
   ]
  },
  {
   "cell_type": "code",
   "execution_count": 43,
   "metadata": {},
   "outputs": [],
   "source": [
    "score1=cosine_similarity(matrix1_df,a_1).reshape(-1)\n",
    "score2=cosine_similarity(matrix2_df,a_2).reshape(-1)\n",
    "hybrid = ((score1 + score2)/2.0)\n",
    "dictdf= {'content':score1, 'collibrative':score2, 'hybrid':hybrid}\n",
    "similar= pd.DataFrame(dictdf, index= matrix1_df.index)"
   ]
  },
  {
   "cell_type": "code",
   "execution_count": 44,
   "metadata": {},
   "outputs": [
    {
     "data": {
      "text/html": [
       "<div>\n",
       "<style scoped>\n",
       "    .dataframe tbody tr th:only-of-type {\n",
       "        vertical-align: middle;\n",
       "    }\n",
       "\n",
       "    .dataframe tbody tr th {\n",
       "        vertical-align: top;\n",
       "    }\n",
       "\n",
       "    .dataframe thead th {\n",
       "        text-align: right;\n",
       "    }\n",
       "</style>\n",
       "<table border=\"1\" class=\"dataframe\">\n",
       "  <thead>\n",
       "    <tr style=\"text-align: right;\">\n",
       "      <th></th>\n",
       "      <th>content</th>\n",
       "      <th>collibrative</th>\n",
       "      <th>hybrid</th>\n",
       "    </tr>\n",
       "  </thead>\n",
       "  <tbody>\n",
       "    <tr>\n",
       "      <th>Toy Story 2 (1999)</th>\n",
       "      <td>1.000000</td>\n",
       "      <td>0.882573</td>\n",
       "      <td>0.941287</td>\n",
       "    </tr>\n",
       "    <tr>\n",
       "      <th>Bug's Life, A (1998)</th>\n",
       "      <td>0.984536</td>\n",
       "      <td>0.854978</td>\n",
       "      <td>0.919757</td>\n",
       "    </tr>\n",
       "    <tr>\n",
       "      <th>Aladdin (1992)</th>\n",
       "      <td>0.942932</td>\n",
       "      <td>0.855587</td>\n",
       "      <td>0.899259</td>\n",
       "    </tr>\n",
       "    <tr>\n",
       "      <th>Monty Python and the Holy Grail (1975)</th>\n",
       "      <td>0.896206</td>\n",
       "      <td>0.900486</td>\n",
       "      <td>0.898346</td>\n",
       "    </tr>\n",
       "    <tr>\n",
       "      <th>Finding Nemo (2003)</th>\n",
       "      <td>0.984536</td>\n",
       "      <td>0.756866</td>\n",
       "      <td>0.870701</td>\n",
       "    </tr>\n",
       "    <tr>\n",
       "      <th>Monsters, Inc. (2001)</th>\n",
       "      <td>1.000000</td>\n",
       "      <td>0.741323</td>\n",
       "      <td>0.870661</td>\n",
       "    </tr>\n",
       "    <tr>\n",
       "      <th>Shrek (2001)</th>\n",
       "      <td>0.925593</td>\n",
       "      <td>0.802527</td>\n",
       "      <td>0.864060</td>\n",
       "    </tr>\n",
       "    <tr>\n",
       "      <th>Jumanji (1995)</th>\n",
       "      <td>0.955085</td>\n",
       "      <td>0.755187</td>\n",
       "      <td>0.855136</td>\n",
       "    </tr>\n",
       "    <tr>\n",
       "      <th>Wizard of Oz, The (1939)</th>\n",
       "      <td>0.919202</td>\n",
       "      <td>0.789910</td>\n",
       "      <td>0.854556</td>\n",
       "    </tr>\n",
       "    <tr>\n",
       "      <th>Lion King, The (1994)</th>\n",
       "      <td>0.867648</td>\n",
       "      <td>0.805710</td>\n",
       "      <td>0.836679</td>\n",
       "    </tr>\n",
       "  </tbody>\n",
       "</table>\n",
       "</div>"
      ],
      "text/plain": [
       "                                         content  collibrative    hybrid\n",
       "Toy Story 2 (1999)                      1.000000      0.882573  0.941287\n",
       "Bug's Life, A (1998)                    0.984536      0.854978  0.919757\n",
       "Aladdin (1992)                          0.942932      0.855587  0.899259\n",
       "Monty Python and the Holy Grail (1975)  0.896206      0.900486  0.898346\n",
       "Finding Nemo (2003)                     0.984536      0.756866  0.870701\n",
       "Monsters, Inc. (2001)                   1.000000      0.741323  0.870661\n",
       "Shrek (2001)                            0.925593      0.802527  0.864060\n",
       "Jumanji (1995)                          0.955085      0.755187  0.855136\n",
       "Wizard of Oz, The (1939)                0.919202      0.789910  0.854556\n",
       "Lion King, The (1994)                   0.867648      0.805710  0.836679"
      ]
     },
     "execution_count": 44,
     "metadata": {},
     "output_type": "execute_result"
    }
   ],
   "source": [
    "similar.sort_values('hybrid', ascending=False, inplace=True)\n",
    "similar[1:].head(10)"
   ]
  },
  {
   "cell_type": "code",
   "execution_count": null,
   "metadata": {},
   "outputs": [],
   "source": []
  }
 ],
 "metadata": {
  "kernelspec": {
   "display_name": "Python 3",
   "language": "python",
   "name": "python3"
  },
  "language_info": {
   "codemirror_mode": {
    "name": "ipython",
    "version": 3
   },
   "file_extension": ".py",
   "mimetype": "text/x-python",
   "name": "python",
   "nbconvert_exporter": "python",
   "pygments_lexer": "ipython3",
   "version": "3.7.6"
  }
 },
 "nbformat": 4,
 "nbformat_minor": 4
}
